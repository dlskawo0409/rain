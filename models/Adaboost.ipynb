{
 "cells": [
  {
   "cell_type": "code",
   "execution_count": 1,
   "metadata": {},
   "outputs": [],
   "source": [
    "from sklearn.ensemble import AdaBoostClassifier\n",
    "from sklearn import datasets\n",
    "from sklearn.model_selection import train_test_split\n",
    "from sklearn import metrics\n",
    "import pandas as pd\n",
    "import sklearn.metrics as mt"
   ]
  },
  {
   "cell_type": "code",
   "execution_count": 2,
   "metadata": {},
   "outputs": [],
   "source": [
    "import sklearn.metrics as mt\n",
    "def get_clf_eval(y_test, pred=None):\n",
    "    confusion = mt.confusion_matrix( y_test, pred)\n",
    "    accuracy = mt.accuracy_score(y_test , pred)\n",
    "    precision = mt.precision_score(y_test , pred)\n",
    "    recall = mt.recall_score(y_test , pred)\n",
    "    f1 = mt.f1_score(y_test,pred)\n",
    "\n",
    "    print('오차 행렬:')\n",
    "    print(confusion)\n",
    "    \n",
    "    print('\\n정확도: {0:.4f} \\n정밀도: {1:.4f} \\n재현율: {2:.4f} \\n    F1: {3:.4f}'.format(accuracy, precision, recall, f1))\n"
   ]
  },
  {
   "cell_type": "code",
   "execution_count": 3,
   "metadata": {},
   "outputs": [],
   "source": [
    "weather_df=pd.read_csv(\"pre_labeled_weather.csv\", index_col = 0)\n",
    "\n",
    "X = weather_df.drop(['TomorrowRain'], axis=1)\n",
    "y = weather_df['TomorrowRain']\n",
    "X_train, X_test, y_train, y_test = train_test_split(X, y, test_size = 0.2,stratify=y, random_state = 12345)"
   ]
  },
  {
   "cell_type": "code",
   "execution_count": 4,
   "metadata": {},
   "outputs": [
    {
     "name": "stdout",
     "output_type": "stream",
     "text": [
      "Train_Accuracy :  0.8100915028876507 \n",
      "\n",
      "Test_Accuracy :  0.8094614646067906 \n",
      "\n",
      "정확도:  0.81 \n",
      "\n",
      "재현율:  0.19 \n",
      "\n",
      "정밀도:  0.60 \n",
      "\n",
      "F1:  0.29 \n",
      "\n",
      "Confusion Matrix: \n",
      " [[52909  1793]\n",
      " [11305  2735]]\n"
     ]
    }
   ],
   "source": [
    "model = AdaBoostClassifier(n_estimators=150,\n",
    "                         learning_rate=1) \n",
    "# Train Adaboost Classifer\n",
    "model.fit(X_train, y_train)\n",
    "y_pred = model.predict(X_test) "
   ]
  },
  {
   "cell_type": "code",
   "execution_count": 7,
   "metadata": {},
   "outputs": [
    {
     "name": "stdout",
     "output_type": "stream",
     "text": [
      "Train_Accuracy :  0.8100915028876507 \n",
      "\n",
      "오차 행렬:\n",
      "[[52909  1793]\n",
      " [11305  2735]]\n",
      "\n",
      "정확도: 0.8095 \n",
      "정밀도: 0.6040 \n",
      "재현율: 0.1948 \n",
      "    F1: 0.2946\n"
     ]
    }
   ],
   "source": [
    "print(\"Train_Accuracy : \", model.score(X_train, y_train), '\\n')\n",
    "get_clf_eval(y_test, y_pred)"
   ]
  },
  {
   "cell_type": "code",
   "execution_count": 8,
   "metadata": {},
   "outputs": [],
   "source": [
    "model = AdaBoostClassifier(n_estimators=100,\n",
    "                         learning_rate=0.1) \n",
    "# Train Adaboost Classifer\n",
    "model.fit(X_train, y_train)\n",
    "y_pred = model.predict(X_test) "
   ]
  },
  {
   "cell_type": "code",
   "execution_count": 9,
   "metadata": {},
   "outputs": [
    {
     "name": "stdout",
     "output_type": "stream",
     "text": [
      "Train_Accuracy :  0.8016794925881207 \n",
      "\n",
      "오차 행렬:\n",
      "[[54256   446]\n",
      " [13173   867]]\n",
      "\n",
      "정확도: 0.8019 \n",
      "정밀도: 0.6603 \n",
      "재현율: 0.0618 \n",
      "    F1: 0.1129\n"
     ]
    }
   ],
   "source": [
    "print(\"Train_Accuracy : \", model.score(X_train, y_train), '\\n')\n",
    "get_clf_eval(y_test, y_pred)"
   ]
  },
  {
   "cell_type": "markdown",
   "metadata": {},
   "source": [
    "n_estimators=100 -> n_estimators=150 예측 성능 하락"
   ]
  },
  {
   "cell_type": "code",
   "execution_count": 10,
   "metadata": {},
   "outputs": [
    {
     "name": "stdout",
     "output_type": "stream",
     "text": [
      "Train_Accuracy :  0.8086003985976346 \n",
      "\n",
      "오차 행렬:\n",
      "[[53128  1574]\n",
      " [11598  2442]]\n",
      "\n",
      "정확도: 0.8084 \n",
      "정밀도: 0.6081 \n",
      "재현율: 0.1739 \n",
      "    F1: 0.2705\n"
     ]
    }
   ],
   "source": [
    "model = AdaBoostClassifier(n_estimators=200,\n",
    "                         learning_rate=0.5) \n",
    "# Train Adaboost Classifer\n",
    "model.fit(X_train, y_train)\n",
    "y_pred = model.predict(X_test) \n",
    "print(\"Train_Accuracy : \", model.score(X_train, y_train), '\\n')\n",
    "get_clf_eval(y_test, y_pred)"
   ]
  },
  {
   "cell_type": "markdown",
   "metadata": {},
   "source": [
    "learning_rate=1 -> learning_rate=0.5 예측 성능 하락"
   ]
  },
  {
   "cell_type": "markdown",
   "metadata": {},
   "source": [
    "이상치 제거한 데이터 모델학습"
   ]
  },
  {
   "cell_type": "code",
   "execution_count": 6,
   "metadata": {},
   "outputs": [],
   "source": [
    "weather_df=pd.read_csv(\"./data/drop_MiceImputed_weather.csv\", index_col = 0)\n",
    "\n",
    "X = weather_df.drop(['TomorrowRain'], axis=1)\n",
    "y = weather_df['TomorrowRain']\n",
    "X_train, X_test, y_train, y_test = train_test_split(X, y, test_size = 0.2,stratify=y, random_state = 12345)"
   ]
  },
  {
   "cell_type": "code",
   "execution_count": 7,
   "metadata": {},
   "outputs": [
    {
     "name": "stdout",
     "output_type": "stream",
     "text": [
      "오차 행렬:\n",
      "[[53070  1632]\n",
      " [10716  3324]]\n",
      "\n",
      "정확도: 0.8204 \n",
      "정밀도: 0.6707 \n",
      "재현율: 0.2368 \n",
      "    F1: 0.3500\n"
     ]
    }
   ],
   "source": [
    "model = AdaBoostClassifier(n_estimators=150,\n",
    "                         learning_rate=1) \n",
    "# Train Adaboost Classifer\n",
    "model.fit(X_train, y_train)\n",
    "y_pred = model.predict(X_test) \n",
    "get_clf_eval(y_test, y_pred)"
   ]
  }
 ],
 "metadata": {
  "kernelspec": {
   "display_name": "Python 3",
   "language": "python",
   "name": "python3"
  },
  "language_info": {
   "codemirror_mode": {
    "name": "ipython",
    "version": 3
   },
   "file_extension": ".py",
   "mimetype": "text/x-python",
   "name": "python",
   "nbconvert_exporter": "python",
   "pygments_lexer": "ipython3",
   "version": "3.8.5"
  },
  "toc": {
   "base_numbering": 1,
   "nav_menu": {},
   "number_sections": true,
   "sideBar": true,
   "skip_h1_title": false,
   "title_cell": "Table of Contents",
   "title_sidebar": "Contents",
   "toc_cell": false,
   "toc_position": {},
   "toc_section_display": true,
   "toc_window_display": false
  }
 },
 "nbformat": 4,
 "nbformat_minor": 5
}

{
 "cells": [
  {
   "cell_type": "code",
   "execution_count": 1,
   "metadata": {},
   "outputs": [],
   "source": [
    "from sklearn.model_selection import train_test_split\n",
    "from sklearn import metrics\n",
    "import pandas as pd\n",
    "import sklearn.metrics as mt\n",
    "from sklearn.ensemble import GradientBoostingClassifier \n",
    "from sklearn.metrics import accuracy_score\n",
    "import time\n",
    "from sklearn.model_selection import GridSearchCV"
   ]
  },
  {
   "cell_type": "code",
   "execution_count": 2,
   "metadata": {},
   "outputs": [],
   "source": [
    "def get_clf_eval(y_test, pred=None):\n",
    "    confusion = mt.confusion_matrix( y_test, pred)\n",
    "    accuracy = mt.accuracy_score(y_test , pred)\n",
    "    precision = mt.precision_score(y_test , pred)\n",
    "    recall = mt.recall_score(y_test , pred)\n",
    "    f1 = mt.f1_score(y_test,pred)\n",
    "\n",
    "    print('오차 행렬:')\n",
    "    print(confusion)\n",
    "    \n",
    "    print('\\n정확도: {0:.4f} \\n정밀도: {1:.4f} \\n재현율: {2:.4f} \\n    F1: {3:.4f}'.format(accuracy, precision, recall, f1))\n"
   ]
  },
  {
   "cell_type": "code",
   "execution_count": 4,
   "metadata": {},
   "outputs": [],
   "source": [
    "weather_df=pd.read_csv(\"./data/pre_labeled_weather.csv\", index_col = 0)\n",
    "\n",
    "X = weather_df.drop(['TomorrowRain'], axis=1)\n",
    "y = weather_df['TomorrowRain']\n",
    "X_train, X_test, y_train, y_test = train_test_split(X, y, test_size = 0.2,stratify=y, random_state = 0)"
   ]
  },
  {
   "cell_type": "code",
   "execution_count": 4,
   "metadata": {},
   "outputs": [
    {
     "name": "stdout",
     "output_type": "stream",
     "text": [
      "Train_Accuracy :  0.8128700484427053 \n",
      "\n",
      "Test_Accuracy :  0.812079951121585 \n",
      "\n"
     ]
    }
   ],
   "source": [
    "gb_clf = GradientBoostingClassifier(random_state=0)\n",
    "gb_clf.fit(X_train, y_train)\n",
    "y_pred = gb_clf.predict(X_test) \n",
    "print(\"Train_Accuracy : \", gb_clf.score(X_train, y_train), '\\n')\n",
    "print(\"Test_Accuracy : \", gb_clf.score(X_test, y_test), '\\n')\n"
   ]
  },
  {
   "cell_type": "code",
   "execution_count": 5,
   "metadata": {},
   "outputs": [
    {
     "name": "stdout",
     "output_type": "stream",
     "text": [
      "오차 행렬:\n",
      "[[53386  1316]\n",
      " [11602  2438]]\n",
      "\n",
      "정확도: 0.8121 \n",
      "정밀도: 0.6494 \n",
      "재현율: 0.1736 \n",
      "    F1: 0.2740\n"
     ]
    }
   ],
   "source": [
    "get_clf_eval(y_test, y_pred)"
   ]
  },
  {
   "cell_type": "code",
   "execution_count": 6,
   "metadata": {},
   "outputs": [
    {
     "name": "stdout",
     "output_type": "stream",
     "text": [
      "Train_Accuracy :  0.8342182976680583 \n",
      "\n",
      "Test_Accuracy :  0.8279945302726135 \n",
      "\n",
      "오차 행렬:\n",
      "[[53104  1598]\n",
      " [10226  3814]]\n",
      "\n",
      "정확도: 0.8280 \n",
      "정밀도: 0.7047 \n",
      "재현율: 0.2717 \n",
      "    F1: 0.3921\n"
     ]
    }
   ],
   "source": [
    "gb_clf = GradientBoostingClassifier(n_estimators = 200 ,max_depth = 5,random_state=0)\n",
    "gb_clf.fit(X_train, y_train)\n",
    "y_pred = gb_clf.predict(X_test) \n",
    "print(\"Train_Accuracy : \", gb_clf.score(X_train, y_train), '\\n')\n",
    "print(\"Test_Accuracy : \", gb_clf.score(X_test, y_test), '\\n')\n",
    "get_clf_eval(y_test, y_pred)"
   ]
  },
  {
   "cell_type": "code",
   "execution_count": 7,
   "metadata": {},
   "outputs": [
    {
     "name": "stdout",
     "output_type": "stream",
     "text": [
      "Train_Accuracy :  0.8872361472774618 \n",
      "\n",
      "Test_Accuracy :  0.8508335515405429 \n",
      "\n",
      "오차 행렬:\n",
      "[[53078  1624]\n",
      " [ 8630  5410]]\n",
      "\n",
      "정확도: 0.8508 \n",
      "정밀도: 0.7691 \n",
      "재현율: 0.3853 \n",
      "    F1: 0.5134\n"
     ]
    }
   ],
   "source": [
    "gb_clf = GradientBoostingClassifier(n_estimators = 200 ,max_depth = 8,random_state=0)\n",
    "gb_clf.fit(X_train, y_train)\n",
    "y_pred = gb_clf.predict(X_test) \n",
    "print(\"Train_Accuracy : \", gb_clf.score(X_train, y_train), '\\n')\n",
    "print(\"Test_Accuracy : \", gb_clf.score(X_test, y_test), '\\n')\n",
    "get_clf_eval(y_test, y_pred)"
   ]
  },
  {
   "cell_type": "code",
   "execution_count": 5,
   "metadata": {},
   "outputs": [
    {
     "name": "stdout",
     "output_type": "stream",
     "text": [
      "Train_Accuracy :  0.9167200069827323 \n",
      "\n",
      "Test_Accuracy :  0.8593145384190161 \n",
      "\n",
      "오차 행렬:\n",
      "[[52967  1735]\n",
      " [ 7936  6104]]\n",
      "\n",
      "정확도: 0.8593 \n",
      "정밀도: 0.7787 \n",
      "재현율: 0.4348 \n",
      "    F1: 0.5580\n"
     ]
    }
   ],
   "source": [
    "gb_clf = GradientBoostingClassifier(n_estimators = 400 ,max_depth = 8,random_state=0)\n",
    "gb_clf.fit(X_train, y_train)\n",
    "y_pred = gb_clf.predict(X_test) \n",
    "print(\"Train_Accuracy : \", gb_clf.score(X_train, y_train), '\\n')\n",
    "print(\"Test_Accuracy : \", gb_clf.score(X_test, y_test), '\\n')\n",
    "get_clf_eval(y_test, y_pred)"
   ]
  },
  {
   "cell_type": "code",
   "execution_count": null,
   "metadata": {},
   "outputs": [],
   "source": []
  }
 ],
 "metadata": {
  "kernelspec": {
   "display_name": "Python 3",
   "language": "python",
   "name": "python3"
  },
  "language_info": {
   "codemirror_mode": {
    "name": "ipython",
    "version": 3
   },
   "file_extension": ".py",
   "mimetype": "text/x-python",
   "name": "python",
   "nbconvert_exporter": "python",
   "pygments_lexer": "ipython3",
   "version": "3.8.5"
  },
  "toc": {
   "base_numbering": 1,
   "nav_menu": {},
   "number_sections": true,
   "sideBar": true,
   "skip_h1_title": false,
   "title_cell": "Table of Contents",
   "title_sidebar": "Contents",
   "toc_cell": false,
   "toc_position": {},
   "toc_section_display": true,
   "toc_window_display": false
  }
 },
 "nbformat": 4,
 "nbformat_minor": 5
}

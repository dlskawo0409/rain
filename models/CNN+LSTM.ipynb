{
 "cells": [
  {
   "cell_type": "code",
   "execution_count": null,
   "metadata": {
    "_cell_guid": "b1076dfc-b9ad-4769-8c92-a6c4dae69d19",
    "_uuid": "8f2839f25d086af736a60e9eeb907d3b93b6e0e5",
    "execution": {
     "iopub.execute_input": "2022-06-01T03:03:08.412697Z",
     "iopub.status.busy": "2022-06-01T03:03:08.411914Z",
     "iopub.status.idle": "2022-06-01T03:03:15.422650Z",
     "shell.execute_reply": "2022-06-01T03:03:15.421651Z",
     "shell.execute_reply.started": "2022-06-01T03:03:08.412661Z"
    }
   },
   "outputs": [],
   "source": [
    "from sklearn import datasets\n",
    "from sklearn.model_selection import train_test_split\n",
    "from sklearn import metrics\n",
    "import pandas as pd\n",
    "from keras import models\n",
    "from keras import layers\n",
    "import tensorflow as tf\n",
    "from keras.models import Sequential # 신경망 모델 생성자함수\n",
    "from keras.layers import Embedding, LSTM, GRU, Dense, Dropout\n",
    "from keras.models import load_model # 신경망 모델 파일 불러오기\n",
    "from tensorflow.keras.optimizers import Adam\n",
    "from keras.preprocessing import sequence\n",
    "from keras.callbacks import EarlyStopping # 학습조기종료\n",
    "from tensorflow.keras import callbacks\n",
    "import numpy as np\n",
    "import pandas as pd\n",
    "from tensorflow.keras.layers import Dense, BatchNormalization, Dropout, LSTM\n",
    "from tensorflow.keras.models import Sequential\n",
    "from tensorflow.keras.optimizers import Adam\n",
    "from tensorflow.keras import regularizers\n",
    "from sklearn.metrics import precision_score, recall_score, confusion_matrix, classification_report, accuracy_score, f1_score\n",
    "import tensorflow\n",
    "from sklearn.model_selection import train_test_split \n",
    "import numpy\n",
    "from keras.datasets import imdb\n",
    "from keras.models import Sequential\n",
    "from keras.layers import Dense\n",
    "from keras.layers import LSTM\n",
    "from keras.layers.convolutional import Conv1D\n",
    "from keras.layers.convolutional import MaxPooling1D\n",
    "from tensorflow.keras.layers import Embedding\n",
    "from keras.preprocessing import sequence"
   ]
  },
  {
   "cell_type": "code",
   "execution_count": null,
   "metadata": {},
   "outputs": [],
   "source": [
    "import os\n",
    "os.environ['TF_CPP_MIN_LOG_LEVEL'] = '2'"
   ]
  },
  {
   "cell_type": "code",
   "execution_count": null,
   "metadata": {
    "execution": {
     "iopub.execute_input": "2022-05-31T17:56:40.449772Z",
     "iopub.status.busy": "2022-05-31T17:56:40.449053Z",
     "iopub.status.idle": "2022-05-31T17:56:41.602034Z",
     "shell.execute_reply": "2022-05-31T17:56:41.601211Z",
     "shell.execute_reply.started": "2022-05-31T17:56:40.449733Z"
    }
   },
   "outputs": [],
   "source": [
    "df=pd.read_csv(\"pre_labeled_weather.csv\")"
   ]
  },
  {
   "cell_type": "code",
   "execution_count": null,
   "metadata": {
    "execution": {
     "iopub.execute_input": "2022-05-31T17:56:41.603640Z",
     "iopub.status.busy": "2022-05-31T17:56:41.603289Z",
     "iopub.status.idle": "2022-05-31T17:56:41.641833Z",
     "shell.execute_reply": "2022-05-31T17:56:41.641010Z",
     "shell.execute_reply.started": "2022-05-31T17:56:41.603605Z"
    }
   },
   "outputs": [],
   "source": [
    "df.drop(['Unnamed: 0'], axis=1,inplace=True)"
   ]
  },
  {
   "cell_type": "code",
   "execution_count": null,
   "metadata": {
    "execution": {
     "iopub.execute_input": "2022-05-31T17:56:41.644073Z",
     "iopub.status.busy": "2022-05-31T17:56:41.643686Z",
     "iopub.status.idle": "2022-05-31T17:56:41.695557Z",
     "shell.execute_reply": "2022-05-31T17:56:41.694769Z",
     "shell.execute_reply.started": "2022-05-31T17:56:41.644037Z"
    }
   },
   "outputs": [],
   "source": [
    "y = df['TomorrowRain'].values\n",
    "X = df.drop(['TomorrowRain'], axis=1)\n",
    "x=X.values"
   ]
  },
  {
   "cell_type": "code",
   "execution_count": null,
   "metadata": {
    "execution": {
     "iopub.execute_input": "2022-05-31T17:57:42.848336Z",
     "iopub.status.busy": "2022-05-31T17:57:42.847985Z",
     "iopub.status.idle": "2022-05-31T17:57:42.962304Z",
     "shell.execute_reply": "2022-05-31T17:57:42.961382Z",
     "shell.execute_reply.started": "2022-05-31T17:57:42.848307Z"
    }
   },
   "outputs": [],
   "source": [
    "from sklearn.model_selection import train_test_split\n",
    "import numpy as np\n",
    "x_train , x_test , y_train , y_test = train_test_split(x, y,test_size=0.2,random_state=42)\n",
    "x_train.shape"
   ]
  },
  {
   "cell_type": "code",
   "execution_count": null,
   "metadata": {
    "execution": {
     "iopub.execute_input": "2022-05-31T17:56:47.826635Z",
     "iopub.status.busy": "2022-05-31T17:56:47.825726Z",
     "iopub.status.idle": "2022-05-31T17:56:47.834772Z",
     "shell.execute_reply": "2022-05-31T17:56:47.833930Z",
     "shell.execute_reply.started": "2022-05-31T17:56:47.826596Z"
    }
   },
   "outputs": [],
   "source": [
    "import sklearn.metrics as mt # 성능지표를 계산import sklearn.metrics as mt\n",
    "def get_clf_eval(y_test, pred=None):\n",
    "    confusion = mt.confusion_matrix( y_test, pred)\n",
    "    accuracy = mt.accuracy_score(y_test , pred)\n",
    "    precision = mt.precision_score(y_test , pred)\n",
    "    recall = mt.recall_score(y_test , pred)\n",
    "    f1 = mt.f1_score(y_test,pred)\n",
    "\n",
    "    print('오차 행렬:')\n",
    "    print(confusion)\n",
    "    \n",
    "    print('\\n정확도: {0:.4f} \\n정밀도: {1:.4f} \\n재현율: {2:.4f} \\n    F1: {3:.4f}'.format(accuracy, precision, recall, f1))"
   ]
  },
  {
   "cell_type": "code",
   "execution_count": null,
   "metadata": {
    "execution": {
     "iopub.execute_input": "2022-05-31T10:20:40.772206Z",
     "iopub.status.busy": "2022-05-31T10:20:40.771724Z",
     "iopub.status.idle": "2022-05-31T10:20:40.858838Z",
     "shell.execute_reply": "2022-05-31T10:20:40.857272Z",
     "shell.execute_reply.started": "2022-05-31T10:20:40.772163Z"
    }
   },
   "outputs": [],
   "source": [
    "get_clf_eval(y_test,y_pred)"
   ]
  },
  {
   "cell_type": "code",
   "execution_count": null,
   "metadata": {
    "execution": {
     "iopub.execute_input": "2022-05-31T17:57:48.378907Z",
     "iopub.status.busy": "2022-05-31T17:57:48.378100Z",
     "iopub.status.idle": "2022-05-31T20:00:11.955207Z",
     "shell.execute_reply": "2022-05-31T20:00:11.954388Z",
     "shell.execute_reply.started": "2022-05-31T17:57:48.378870Z"
    }
   },
   "outputs": [],
   "source": [
    "early_stopping = callbacks.EarlyStopping(\n",
    "    min_delta=0.01, # minimium amount of change to count as an improvement\n",
    "    patience=20, # how many epochs to wait before stopping\n",
    "    restore_best_weights=True,\n",
    ")\n",
    "\n",
    "embedding_vecor_length = 24\n",
    "model1 = Sequential()\n",
    "model1.add(Embedding(274964, embedding_vecor_length, input_length=24))\n",
    "model1.add(Dropout(0.2))\n",
    "model1.add(LSTM(100))\n",
    "model1.add(Dropout(0.2))\n",
    "model1.add(Dense(1, activation='sigmoid'))\n",
    "model1.compile(loss='binary_crossentropy', optimizer='adam', metrics=['accuracy'])\n",
    "print(model1.summary())\n",
    "\n",
    "history=model1.fit(x_train, y_train, epochs=150, batch_size=32,callbacks=[early_stopping],validation_data=(x_val, y_val))"
   ]
  },
  {
   "cell_type": "code",
   "execution_count": null,
   "metadata": {
    "execution": {
     "iopub.execute_input": "2022-05-31T20:00:11.957203Z",
     "iopub.status.busy": "2022-05-31T20:00:11.956833Z",
     "iopub.status.idle": "2022-05-31T20:00:15.368946Z",
     "shell.execute_reply": "2022-05-31T20:00:15.367394Z",
     "shell.execute_reply.started": "2022-05-31T20:00:11.957168Z"
    }
   },
   "outputs": [],
   "source": [
    "y_pred1 = model1.predict(x_test)\n",
    "y_pred1 = (y_pred1 > 0.5)\n",
    "print(y_pred1)"
   ]
  },
  {
   "cell_type": "code",
   "execution_count": null,
   "metadata": {
    "execution": {
     "iopub.execute_input": "2022-05-31T20:00:15.370524Z",
     "iopub.status.busy": "2022-05-31T20:00:15.370153Z",
     "iopub.status.idle": "2022-05-31T20:00:15.460708Z",
     "shell.execute_reply": "2022-05-31T20:00:15.459899Z",
     "shell.execute_reply.started": "2022-05-31T20:00:15.370488Z"
    }
   },
   "outputs": [],
   "source": [
    "get_clf_eval(y_test,y_pred1)"
   ]
  },
  {
   "cell_type": "code",
   "execution_count": null,
   "metadata": {
    "execution": {
     "iopub.execute_input": "2022-06-01T03:03:21.232162Z",
     "iopub.status.busy": "2022-06-01T03:03:21.231019Z",
     "iopub.status.idle": "2022-06-01T03:03:21.515087Z",
     "shell.execute_reply": "2022-06-01T03:03:21.513656Z",
     "shell.execute_reply.started": "2022-06-01T03:03:21.232123Z"
    }
   },
   "outputs": [],
   "source": [
    "history_df = pd.DataFrame(model1.history)\n",
    "\n",
    "plt.plot(history_df.loc[:, ['loss']], \"#BDE2E2\", label='Training loss')\n",
    "plt.plot(history_df.loc[:, ['val_loss']],\"#C2C4E2\", label='Validation loss')\n",
    "plt.title('Training and Validation loss')\n",
    "plt.xlabel('Epochs')\n",
    "plt.ylabel('Loss')\n",
    "plt.legend(loc=\"best\")\n",
    "\n",
    "plt.show()"
   ]
  },
  {
   "cell_type": "code",
   "execution_count": null,
   "metadata": {
    "execution": {
     "iopub.status.busy": "2022-05-31T20:00:15.488024Z",
     "iopub.status.idle": "2022-05-31T20:00:15.488741Z",
     "shell.execute_reply": "2022-05-31T20:00:15.488501Z",
     "shell.execute_reply.started": "2022-05-31T20:00:15.488476Z"
    }
   },
   "outputs": [],
   "source": [
    "history_df = pd.DataFrame(history.history)\n",
    "\n",
    "plt.plot(history_df.loc[:, ['accuracy']], \"#BDE2E2\", label='Training accuracy')\n",
    "plt.plot(history_df.loc[:, ['val_accuracy']], \"#C2C4E2\", label='Validation accuracy')\n",
    "\n",
    "plt.title('Training and Validation accuracy')\n",
    "plt.xlabel('Epochs')\n",
    "plt.ylabel('Accuracy')\n",
    "plt.legend()\n",
    "plt.show()"
   ]
  },
  {
   "cell_type": "code",
   "execution_count": null,
   "metadata": {
    "execution": {
     "iopub.status.busy": "2022-05-31T20:00:15.490002Z",
     "iopub.status.idle": "2022-05-31T20:00:15.490734Z",
     "shell.execute_reply": "2022-05-31T20:00:15.490492Z",
     "shell.execute_reply.started": "2022-05-31T20:00:15.490467Z"
    }
   },
   "outputs": [],
   "source": [
    "cmap1 = sns.diverging_palette(260,-10,s=50, l=75, n=5, as_cmap=True)\n",
    "plt.subplots(figsize=(12,8))\n",
    "cf_matrix = confusion_matrix(y_test, y_pred)\n",
    "sns.heatmap(cf_matrix/np.sum(cf_matrix), cmap = cmap1, annot = True, annot_kws = {'size':15})"
   ]
  },
  {
   "cell_type": "code",
   "execution_count": null,
   "metadata": {
    "execution": {
     "iopub.status.busy": "2022-05-31T20:00:15.492054Z",
     "iopub.status.idle": "2022-05-31T20:00:15.492897Z",
     "shell.execute_reply": "2022-05-31T20:00:15.492609Z",
     "shell.execute_reply.started": "2022-05-31T20:00:15.492580Z"
    }
   },
   "outputs": [],
   "source": [
    "print(classification_report(y_test, y_pred))"
   ]
  }
 ],
 "metadata": {
  "kernelspec": {
   "display_name": "Python 3 (ipykernel)",
   "language": "python",
   "name": "python3"
  },
  "language_info": {
   "codemirror_mode": {
    "name": "ipython",
    "version": 3
   },
   "file_extension": ".py",
   "mimetype": "text/x-python",
   "name": "python",
   "nbconvert_exporter": "python",
   "pygments_lexer": "ipython3",
   "version": "3.9.7"
  }
 },
 "nbformat": 4,
 "nbformat_minor": 4
}
